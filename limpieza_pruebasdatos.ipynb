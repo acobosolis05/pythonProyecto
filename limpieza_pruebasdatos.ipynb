{
 "cells": [
  {
   "cell_type": "markdown",
   "metadata": {},
   "source": [
    "## Prueba de datos"
   ]
  },
  {
   "cell_type": "code",
   "execution_count": 7,
   "metadata": {},
   "outputs": [],
   "source": [
    "import pandas as pd \n",
    "#cargar base de datos\n",
    "file_path = 'C:\\Estudio\\pandas_numpy\\pythonProyecto\\pruebasetdatos.csv'\n",
    "data = pd.read_csv(file_path, sep=';', encoding='utf-8')"
   ]
  },
  {
   "cell_type": "code",
   "execution_count": 8,
   "metadata": {},
   "outputs": [
    {
     "name": "stdout",
     "output_type": "stream",
     "text": [
      "<class 'pandas.core.frame.DataFrame'>\n",
      "RangeIndex: 1045501 entries, 0 to 1045500\n",
      "Data columns (total 14 columns):\n",
      " #   Column                    Non-Null Count    Dtype  \n",
      "---  ------                    --------------    -----  \n",
      " 0   TipoIdentificacionCodigo  1045501 non-null  int64  \n",
      " 1   NumeroIdentificacion      1045501 non-null  object \n",
      " 2   Nombre                    1045453 non-null  object \n",
      " 3   Apellido                  1004402 non-null  object \n",
      " 4   FecNacimiento             1045501 non-null  object \n",
      " 5   EstadoLaboralCodigo       1043130 non-null  float64\n",
      " 6   Sexo                      1043130 non-null  float64\n",
      " 7   Genero                    997352 non-null   object \n",
      " 8   Estudiante                1043128 non-null  float64\n",
      " 9   EstadoCodigo              265036 non-null   float64\n",
      " 10  PersonasACargo            540059 non-null   float64\n",
      " 11  Foto                      1045501 non-null  object \n",
      " 12  FechaCreacionCliente      1045501 non-null  object \n",
      " 13  Estado                    1045501 non-null  object \n",
      "dtypes: float64(5), int64(1), object(8)\n",
      "memory usage: 111.7+ MB\n",
      "None\n"
     ]
    }
   ],
   "source": [
    "print(data.info()) #imprimir la informacion preliminar"
   ]
  },
  {
   "cell_type": "code",
   "execution_count": 9,
   "metadata": {},
   "outputs": [
    {
     "name": "stdout",
     "output_type": "stream",
     "text": [
      "Index(['TipoIdentificacionCodigo', 'NumeroIdentificacion', 'Nombre',\n",
      "       'Apellido', 'FecNacimiento', 'EstadoLaboralCodigo', 'Sexo', 'Genero',\n",
      "       'Estudiante', 'EstadoCodigo', 'PersonasACargo', 'Foto',\n",
      "       'FechaCreacionCliente', 'Estado'],\n",
      "      dtype='object')\n"
     ]
    }
   ],
   "source": [
    "# Verifica el nombre de la columna original\n",
    "print(data.columns)"
   ]
  },
  {
   "cell_type": "code",
   "execution_count": 10,
   "metadata": {},
   "outputs": [
    {
     "name": "stdout",
     "output_type": "stream",
     "text": [
      "<class 'pandas.core.frame.DataFrame'>\n",
      "RangeIndex: 1045501 entries, 0 to 1045500\n",
      "Data columns (total 14 columns):\n",
      " #   Column                    Non-Null Count    Dtype  \n",
      "---  ------                    --------------    -----  \n",
      " 0   TipoIdentificacionCodigo  1045501 non-null  int64  \n",
      " 1   NumeroIdentificacion      1045501 non-null  object \n",
      " 2   Nombre                    1045453 non-null  object \n",
      " 3   Apellido                  1004402 non-null  object \n",
      " 4   FecNacimiento             1045501 non-null  object \n",
      " 5   EstadoLaboralCodigo       1043130 non-null  float64\n",
      " 6   Sexo                      1043130 non-null  float64\n",
      " 7   Genero                    997352 non-null   object \n",
      " 8   Estudiante                1043128 non-null  float64\n",
      " 9   EstadoCodigo              265036 non-null   float64\n",
      " 10  PersonasACargo            540059 non-null   float64\n",
      " 11  Foto                      1045501 non-null  object \n",
      " 12  FechaCreacionCliente      1045501 non-null  object \n",
      " 13  Estado                    1045501 non-null  object \n",
      "dtypes: float64(5), int64(1), object(8)\n",
      "memory usage: 111.7+ MB\n",
      "None\n"
     ]
    }
   ],
   "source": [
    "print(data.info()) #imprimir la informacion preliminar"
   ]
  },
  {
   "cell_type": "code",
   "execution_count": 11,
   "metadata": {},
   "outputs": [
    {
     "data": {
      "text/plain": [
       "TipoIdentificacionCodigo         0\n",
       "NumeroIdentificacion             0\n",
       "Nombre                          48\n",
       "Apellido                     41099\n",
       "FecNacimiento                    0\n",
       "EstadoLaboralCodigo           2371\n",
       "Sexo                          2371\n",
       "Genero                       48149\n",
       "Estudiante                    2373\n",
       "EstadoCodigo                780465\n",
       "PersonasACargo              505442\n",
       "Foto                             0\n",
       "FechaCreacionCliente             0\n",
       "Estado                           0\n",
       "dtype: int64"
      ]
     },
     "execution_count": 11,
     "metadata": {},
     "output_type": "execute_result"
    }
   ],
   "source": [
    "#valores faltantes\n",
    "data.isnull().sum()\n"
   ]
  },
  {
   "cell_type": "code",
   "execution_count": 33,
   "metadata": {},
   "outputs": [
    {
     "data": {
      "text/plain": [
       "np.int64(0)"
      ]
     },
     "execution_count": 33,
     "metadata": {},
     "output_type": "execute_result"
    }
   ],
   "source": [
    "#duplicados\n",
    "data.duplicated().sum()"
   ]
  },
  {
   "cell_type": "code",
   "execution_count": 13,
   "metadata": {},
   "outputs": [
    {
     "name": "stdout",
     "output_type": "stream",
     "text": [
      "columna:  TipoIdentificacionCodigo\n",
      "Número devalores únicos: 3\n",
      "Valores únicos: [0 3 1]\n",
      "--------------------------------------------------\n",
      "columna:  NumeroIdentificacion\n",
      "Número devalores únicos: 715903\n",
      "Valores únicos: ['824670' '582024' '518445B' '705180' '45069945' '470024' '125425' '16655'\n",
      " '649575B' '804468']\n",
      "--------------------------------------------------\n",
      "columna:  Nombre\n",
      "Número devalores únicos: 58082\n",
      "Valores únicos: ['GUILLERMO' 'DAVID' 'PATRICIA' 'SEBASTIAN' 'ALFONSO' 'humberto' 'LORENZO'\n",
      " 'maria' 'Sebastian' 'ANDREA']\n",
      "--------------------------------------------------\n",
      "columna:  Apellido\n",
      "Número devalores únicos: 30628\n",
      "Valores únicos: ['RESTREPO' 'GALVEZ' 'ARANGO' 'COSSIO' 'SANDOVAL' 'ARROYAVE' 'Garcia'\n",
      " 'GUTIERREZ' 'MUÑOZ ' 'reyes']\n",
      "--------------------------------------------------\n",
      "columna:  FecNacimiento\n",
      "Número devalores únicos: 1019713\n",
      "Valores únicos: ['1984-04-02 04:18:06.197' '1900-01-01 00:00:00.000'\n",
      " '1984-01-06 07:12:05.200' '1988-05-22 00:14:39.080'\n",
      " '1900-08-19 03:09:45.153' '1977-10-27 00:07:40.330'\n",
      " '1970-06-29 13:36:23.617' '1902-04-13 03:31:10.923'\n",
      " '1986-04-01 02:11:29.640' '1987-11-14 22:11:20.353']\n",
      "--------------------------------------------------\n",
      "columna:  EstadoLaboralCodigo\n",
      "Número devalores únicos: 3\n",
      "Valores únicos: [ 1.  0. nan]\n",
      "--------------------------------------------------\n",
      "columna:  Sexo\n",
      "Número devalores únicos: 3\n",
      "Valores únicos: [ 0.  1. nan]\n",
      "--------------------------------------------------\n",
      "columna:  Genero\n",
      "Número devalores únicos: 5\n",
      "Valores únicos: ['Masculino' 'Femenino' 'Female' nan 'Male']\n",
      "--------------------------------------------------\n",
      "columna:  Estudiante\n",
      "Número devalores únicos: 3\n",
      "Valores únicos: [ 0.  1. nan]\n",
      "--------------------------------------------------\n",
      "columna:  EstadoCodigo\n",
      "Número devalores únicos: 12\n",
      "Valores únicos: [ 1. 12. 23.  7. 11.  9.  3. 25. 21. nan]\n",
      "--------------------------------------------------\n",
      "columna:  PersonasACargo\n",
      "Número devalores únicos: 32\n",
      "Valores únicos: [nan  1.  0.  2.  3.  5.  4.  6. 52. 10.]\n",
      "--------------------------------------------------\n",
      "columna:  Foto\n",
      "Número devalores únicos: 2\n",
      "Valores únicos: ['N' 'S']\n",
      "--------------------------------------------------\n",
      "columna:  FechaCreacionCliente\n",
      "Número devalores únicos: 777567\n",
      "Valores únicos: ['1990-01-01 00:00:00.000' '2013-11-28 15:26:49.007'\n",
      " '2014-01-02 20:32:49.483' '2014-06-05 07:28:25.367'\n",
      " '2014-07-21 09:44:27.130' '2014-08-21 09:06:14.903'\n",
      " '2014-10-25 19:03:43.377' '2014-11-07 03:30:38.663'\n",
      " '2014-11-12 09:08:14.873' '2014-11-15 08:28:06.207']\n",
      "--------------------------------------------------\n",
      "columna:  Estado\n",
      "Número devalores únicos: 2\n",
      "Valores únicos: ['No Aprobado' 'Aprobado']\n",
      "--------------------------------------------------\n"
     ]
    }
   ],
   "source": [
    "unique_values = {col : data[col].unique() for col in data.columns}\n",
    "for col, values in unique_values.items():\n",
    "    print(f'columna:  {col}')\n",
    "    print(f'Número devalores únicos: {len(values)}')\n",
    "    print(f'Valores únicos: {values[:10]}')\n",
    "    print('-' *50)"
   ]
  },
  {
   "cell_type": "code",
   "execution_count": 14,
   "metadata": {},
   "outputs": [],
   "source": [
    "data_cleaned = data\n",
    "data_cleaned = data_cleaned.dropna(subset=['Nombre', 'Apellido'])"
   ]
  },
  {
   "cell_type": "code",
   "execution_count": 15,
   "metadata": {},
   "outputs": [
    {
     "data": {
      "text/plain": [
       "TipoIdentificacionCodigo         0\n",
       "NumeroIdentificacion             0\n",
       "Nombre                           0\n",
       "Apellido                         0\n",
       "FecNacimiento                    0\n",
       "EstadoLaboralCodigo           2253\n",
       "Sexo                          2253\n",
       "Genero                       46007\n",
       "Estudiante                    2254\n",
       "EstadoCodigo                746955\n",
       "PersonasACargo              486951\n",
       "Foto                             0\n",
       "FechaCreacionCliente             0\n",
       "Estado                           0\n",
       "dtype: int64"
      ]
     },
     "execution_count": 15,
     "metadata": {},
     "output_type": "execute_result"
    }
   ],
   "source": [
    "#valores faltantes\n",
    "data_cleaned.isnull().sum()"
   ]
  },
  {
   "cell_type": "code",
   "execution_count": 16,
   "metadata": {},
   "outputs": [],
   "source": [
    "data_cleaned = data_cleaned.dropna(subset=['EstadoLaboralCodigo', 'Sexo', 'Genero', 'Estudiante', 'EstadoCodigo' ])"
   ]
  },
  {
   "cell_type": "code",
   "execution_count": 17,
   "metadata": {},
   "outputs": [
    {
     "data": {
      "text/plain": [
       "TipoIdentificacionCodigo         0\n",
       "NumeroIdentificacion             0\n",
       "Nombre                           0\n",
       "Apellido                         0\n",
       "FecNacimiento                    0\n",
       "EstadoLaboralCodigo              0\n",
       "Sexo                             0\n",
       "Genero                           0\n",
       "Estudiante                       0\n",
       "EstadoCodigo                     0\n",
       "PersonasACargo              196550\n",
       "Foto                             0\n",
       "FechaCreacionCliente             0\n",
       "Estado                           0\n",
       "dtype: int64"
      ]
     },
     "execution_count": 17,
     "metadata": {},
     "output_type": "execute_result"
    }
   ],
   "source": [
    "#valores faltantes\n",
    "data_cleaned.isnull().sum()"
   ]
  },
  {
   "cell_type": "code",
   "execution_count": 18,
   "metadata": {},
   "outputs": [
    {
     "name": "stdout",
     "output_type": "stream",
     "text": [
      "columna:  TipoIdentificacionCodigo\n",
      "Número devalores únicos: 2\n",
      "Valores únicos: [0 3]\n",
      "--------------------------------------------------\n",
      "columna:  NumeroIdentificacion\n",
      "Número devalores únicos: 231956\n",
      "Valores únicos: ['824670' '582024' '518445B' '705180' '45069945' '470024' '125425' '16655'\n",
      " '649575B' '804468']\n",
      "--------------------------------------------------\n",
      "columna:  Nombre\n",
      "Número devalores únicos: 17094\n",
      "Valores únicos: ['GUILLERMO' 'DAVID' 'PATRICIA' 'SEBASTIAN' 'ALFONSO' 'humberto' 'LORENZO'\n",
      " 'maria' 'Sebastian' 'ANDREA']\n",
      "--------------------------------------------------\n",
      "columna:  Apellido\n",
      "Número devalores únicos: 9962\n",
      "Valores únicos: ['RESTREPO' 'GALVEZ' 'ARANGO' 'COSSIO' 'SANDOVAL' 'ARROYAVE' 'Garcia'\n",
      " 'GUTIERREZ' 'MUÑOZ ' 'reyes']\n",
      "--------------------------------------------------\n",
      "columna:  FecNacimiento\n",
      "Número devalores únicos: 255281\n",
      "Valores únicos: ['1984-04-02 04:18:06.197' '1900-01-01 00:00:00.000'\n",
      " '1984-01-06 07:12:05.200' '1988-05-22 00:14:39.080'\n",
      " '1900-08-19 03:09:45.153' '1977-10-27 00:07:40.330'\n",
      " '1970-06-29 13:36:23.617' '1902-04-13 03:31:10.923'\n",
      " '1986-04-01 02:11:29.640' '1987-11-14 22:11:20.353']\n",
      "--------------------------------------------------\n",
      "columna:  EstadoLaboralCodigo\n",
      "Número devalores únicos: 2\n",
      "Valores únicos: [1. 0.]\n",
      "--------------------------------------------------\n",
      "columna:  Sexo\n",
      "Número devalores únicos: 2\n",
      "Valores únicos: [0. 1.]\n",
      "--------------------------------------------------\n",
      "columna:  Genero\n",
      "Número devalores únicos: 4\n",
      "Valores únicos: ['Masculino' 'Femenino' 'Female' 'Male']\n",
      "--------------------------------------------------\n",
      "columna:  Estudiante\n",
      "Número devalores únicos: 2\n",
      "Valores únicos: [0. 1.]\n",
      "--------------------------------------------------\n",
      "columna:  EstadoCodigo\n",
      "Número devalores únicos: 11\n",
      "Valores únicos: [ 1. 12. 23.  7. 11.  9.  3. 25. 21. 22.]\n",
      "--------------------------------------------------\n",
      "columna:  PersonasACargo\n",
      "Número devalores únicos: 18\n",
      "Valores únicos: [nan  1.  0.  2.  3.  5.  4.  6. 10. 14.]\n",
      "--------------------------------------------------\n",
      "columna:  Foto\n",
      "Número devalores únicos: 2\n",
      "Valores únicos: ['N' 'S']\n",
      "--------------------------------------------------\n",
      "columna:  FechaCreacionCliente\n",
      "Número devalores únicos: 1\n",
      "Valores únicos: ['1990-01-01 00:00:00.000']\n",
      "--------------------------------------------------\n",
      "columna:  Estado\n",
      "Número devalores únicos: 2\n",
      "Valores únicos: ['No Aprobado' 'Aprobado']\n",
      "--------------------------------------------------\n"
     ]
    }
   ],
   "source": [
    "unique_values = {col : data_cleaned[col].unique() for col in data_cleaned.columns}\n",
    "for col, values in unique_values.items():\n",
    "    print(f'columna:  {col}')\n",
    "    print(f'Número devalores únicos: {len(values)}')\n",
    "    print(f'Valores únicos: {values[:10]}')\n",
    "    print('-' *50)"
   ]
  },
  {
   "cell_type": "code",
   "execution_count": 19,
   "metadata": {},
   "outputs": [
    {
     "name": "stdout",
     "output_type": "stream",
     "text": [
      "<class 'pandas.core.frame.DataFrame'>\n",
      "Index: 257403 entries, 0 to 267930\n",
      "Data columns (total 14 columns):\n",
      " #   Column                    Non-Null Count   Dtype  \n",
      "---  ------                    --------------   -----  \n",
      " 0   TipoIdentificacionCodigo  257403 non-null  int64  \n",
      " 1   NumeroIdentificacion      257403 non-null  object \n",
      " 2   Nombre                    257403 non-null  object \n",
      " 3   Apellido                  257403 non-null  object \n",
      " 4   FecNacimiento             257403 non-null  object \n",
      " 5   EstadoLaboralCodigo       257403 non-null  float64\n",
      " 6   Sexo                      257403 non-null  float64\n",
      " 7   Genero                    257403 non-null  object \n",
      " 8   Estudiante                257403 non-null  float64\n",
      " 9   EstadoCodigo              257403 non-null  float64\n",
      " 10  PersonasACargo            60853 non-null   float64\n",
      " 11  Foto                      257403 non-null  object \n",
      " 12  FechaCreacionCliente      257403 non-null  object \n",
      " 13  Estado                    257403 non-null  object \n",
      "dtypes: float64(5), int64(1), object(8)\n",
      "memory usage: 29.5+ MB\n",
      "None\n"
     ]
    }
   ],
   "source": [
    "print(data_cleaned.info())"
   ]
  },
  {
   "cell_type": "code",
   "execution_count": 20,
   "metadata": {},
   "outputs": [
    {
     "data": {
      "text/html": [
       "<div>\n",
       "<style scoped>\n",
       "    .dataframe tbody tr th:only-of-type {\n",
       "        vertical-align: middle;\n",
       "    }\n",
       "\n",
       "    .dataframe tbody tr th {\n",
       "        vertical-align: top;\n",
       "    }\n",
       "\n",
       "    .dataframe thead th {\n",
       "        text-align: right;\n",
       "    }\n",
       "</style>\n",
       "<table border=\"1\" class=\"dataframe\">\n",
       "  <thead>\n",
       "    <tr style=\"text-align: right;\">\n",
       "      <th></th>\n",
       "      <th>TipoIdentificacionCodigo</th>\n",
       "      <th>NumeroIdentificacion</th>\n",
       "      <th>Nombre</th>\n",
       "      <th>Apellido</th>\n",
       "      <th>FecNacimiento</th>\n",
       "      <th>EstadoLaboralCodigo</th>\n",
       "      <th>Sexo</th>\n",
       "      <th>Genero</th>\n",
       "      <th>Estudiante</th>\n",
       "      <th>EstadoCodigo</th>\n",
       "      <th>PersonasACargo</th>\n",
       "      <th>Foto</th>\n",
       "      <th>FechaCreacionCliente</th>\n",
       "      <th>Estado</th>\n",
       "    </tr>\n",
       "  </thead>\n",
       "  <tbody>\n",
       "    <tr>\n",
       "      <th>0</th>\n",
       "      <td>0</td>\n",
       "      <td>824670</td>\n",
       "      <td>GUILLERMO</td>\n",
       "      <td>RESTREPO</td>\n",
       "      <td>1984-04-02 04:18:06.197</td>\n",
       "      <td>1.0</td>\n",
       "      <td>0.0</td>\n",
       "      <td>Masculino</td>\n",
       "      <td>0.0</td>\n",
       "      <td>1.0</td>\n",
       "      <td>NaN</td>\n",
       "      <td>N</td>\n",
       "      <td>1990-01-01 00:00:00.000</td>\n",
       "      <td>No Aprobado</td>\n",
       "    </tr>\n",
       "    <tr>\n",
       "      <th>1</th>\n",
       "      <td>0</td>\n",
       "      <td>582024</td>\n",
       "      <td>DAVID</td>\n",
       "      <td>GALVEZ</td>\n",
       "      <td>1900-01-01 00:00:00.000</td>\n",
       "      <td>1.0</td>\n",
       "      <td>0.0</td>\n",
       "      <td>Masculino</td>\n",
       "      <td>0.0</td>\n",
       "      <td>1.0</td>\n",
       "      <td>NaN</td>\n",
       "      <td>N</td>\n",
       "      <td>1990-01-01 00:00:00.000</td>\n",
       "      <td>No Aprobado</td>\n",
       "    </tr>\n",
       "    <tr>\n",
       "      <th>2</th>\n",
       "      <td>0</td>\n",
       "      <td>518445B</td>\n",
       "      <td>PATRICIA</td>\n",
       "      <td>ARANGO</td>\n",
       "      <td>1984-01-06 07:12:05.200</td>\n",
       "      <td>1.0</td>\n",
       "      <td>1.0</td>\n",
       "      <td>Femenino</td>\n",
       "      <td>0.0</td>\n",
       "      <td>1.0</td>\n",
       "      <td>NaN</td>\n",
       "      <td>N</td>\n",
       "      <td>1990-01-01 00:00:00.000</td>\n",
       "      <td>No Aprobado</td>\n",
       "    </tr>\n",
       "    <tr>\n",
       "      <th>3</th>\n",
       "      <td>0</td>\n",
       "      <td>705180</td>\n",
       "      <td>DAVID</td>\n",
       "      <td>COSSIO</td>\n",
       "      <td>1988-05-22 00:14:39.080</td>\n",
       "      <td>0.0</td>\n",
       "      <td>0.0</td>\n",
       "      <td>Masculino</td>\n",
       "      <td>0.0</td>\n",
       "      <td>1.0</td>\n",
       "      <td>NaN</td>\n",
       "      <td>N</td>\n",
       "      <td>1990-01-01 00:00:00.000</td>\n",
       "      <td>No Aprobado</td>\n",
       "    </tr>\n",
       "    <tr>\n",
       "      <th>4</th>\n",
       "      <td>0</td>\n",
       "      <td>45069945</td>\n",
       "      <td>SEBASTIAN</td>\n",
       "      <td>SANDOVAL</td>\n",
       "      <td>1900-08-19 03:09:45.153</td>\n",
       "      <td>1.0</td>\n",
       "      <td>0.0</td>\n",
       "      <td>Masculino</td>\n",
       "      <td>0.0</td>\n",
       "      <td>1.0</td>\n",
       "      <td>NaN</td>\n",
       "      <td>N</td>\n",
       "      <td>1990-01-01 00:00:00.000</td>\n",
       "      <td>No Aprobado</td>\n",
       "    </tr>\n",
       "  </tbody>\n",
       "</table>\n",
       "</div>"
      ],
      "text/plain": [
       "   TipoIdentificacionCodigo NumeroIdentificacion     Nombre  Apellido  \\\n",
       "0                         0               824670  GUILLERMO  RESTREPO   \n",
       "1                         0               582024      DAVID    GALVEZ   \n",
       "2                         0              518445B   PATRICIA    ARANGO   \n",
       "3                         0               705180      DAVID    COSSIO   \n",
       "4                         0             45069945  SEBASTIAN  SANDOVAL   \n",
       "\n",
       "             FecNacimiento  EstadoLaboralCodigo  Sexo     Genero  Estudiante  \\\n",
       "0  1984-04-02 04:18:06.197                  1.0   0.0  Masculino         0.0   \n",
       "1  1900-01-01 00:00:00.000                  1.0   0.0  Masculino         0.0   \n",
       "2  1984-01-06 07:12:05.200                  1.0   1.0   Femenino         0.0   \n",
       "3  1988-05-22 00:14:39.080                  0.0   0.0  Masculino         0.0   \n",
       "4  1900-08-19 03:09:45.153                  1.0   0.0  Masculino         0.0   \n",
       "\n",
       "   EstadoCodigo  PersonasACargo Foto     FechaCreacionCliente       Estado  \n",
       "0           1.0             NaN    N  1990-01-01 00:00:00.000  No Aprobado  \n",
       "1           1.0             NaN    N  1990-01-01 00:00:00.000  No Aprobado  \n",
       "2           1.0             NaN    N  1990-01-01 00:00:00.000  No Aprobado  \n",
       "3           1.0             NaN    N  1990-01-01 00:00:00.000  No Aprobado  \n",
       "4           1.0             NaN    N  1990-01-01 00:00:00.000  No Aprobado  "
      ]
     },
     "execution_count": 20,
     "metadata": {},
     "output_type": "execute_result"
    }
   ],
   "source": [
    "data_cleaned.head()"
   ]
  },
  {
   "cell_type": "code",
   "execution_count": 21,
   "metadata": {},
   "outputs": [],
   "source": [
    "# Eliminar varias columnas\n",
    "data_cleaned = data_cleaned.drop(['TipoIdentificacionCodigo', 'EstadoLaboralCodigo', 'Sexo', 'EstadoCodigo'], axis=1)"
   ]
  },
  {
   "cell_type": "code",
   "execution_count": 22,
   "metadata": {},
   "outputs": [
    {
     "data": {
      "text/html": [
       "<div>\n",
       "<style scoped>\n",
       "    .dataframe tbody tr th:only-of-type {\n",
       "        vertical-align: middle;\n",
       "    }\n",
       "\n",
       "    .dataframe tbody tr th {\n",
       "        vertical-align: top;\n",
       "    }\n",
       "\n",
       "    .dataframe thead th {\n",
       "        text-align: right;\n",
       "    }\n",
       "</style>\n",
       "<table border=\"1\" class=\"dataframe\">\n",
       "  <thead>\n",
       "    <tr style=\"text-align: right;\">\n",
       "      <th></th>\n",
       "      <th>NumeroIdentificacion</th>\n",
       "      <th>Nombre</th>\n",
       "      <th>Apellido</th>\n",
       "      <th>FecNacimiento</th>\n",
       "      <th>Genero</th>\n",
       "      <th>Estudiante</th>\n",
       "      <th>PersonasACargo</th>\n",
       "      <th>Foto</th>\n",
       "      <th>FechaCreacionCliente</th>\n",
       "      <th>Estado</th>\n",
       "    </tr>\n",
       "  </thead>\n",
       "  <tbody>\n",
       "    <tr>\n",
       "      <th>0</th>\n",
       "      <td>824670</td>\n",
       "      <td>GUILLERMO</td>\n",
       "      <td>RESTREPO</td>\n",
       "      <td>1984-04-02 04:18:06.197</td>\n",
       "      <td>Masculino</td>\n",
       "      <td>0.0</td>\n",
       "      <td>NaN</td>\n",
       "      <td>N</td>\n",
       "      <td>1990-01-01 00:00:00.000</td>\n",
       "      <td>No Aprobado</td>\n",
       "    </tr>\n",
       "    <tr>\n",
       "      <th>1</th>\n",
       "      <td>582024</td>\n",
       "      <td>DAVID</td>\n",
       "      <td>GALVEZ</td>\n",
       "      <td>1900-01-01 00:00:00.000</td>\n",
       "      <td>Masculino</td>\n",
       "      <td>0.0</td>\n",
       "      <td>NaN</td>\n",
       "      <td>N</td>\n",
       "      <td>1990-01-01 00:00:00.000</td>\n",
       "      <td>No Aprobado</td>\n",
       "    </tr>\n",
       "    <tr>\n",
       "      <th>2</th>\n",
       "      <td>518445B</td>\n",
       "      <td>PATRICIA</td>\n",
       "      <td>ARANGO</td>\n",
       "      <td>1984-01-06 07:12:05.200</td>\n",
       "      <td>Femenino</td>\n",
       "      <td>0.0</td>\n",
       "      <td>NaN</td>\n",
       "      <td>N</td>\n",
       "      <td>1990-01-01 00:00:00.000</td>\n",
       "      <td>No Aprobado</td>\n",
       "    </tr>\n",
       "    <tr>\n",
       "      <th>3</th>\n",
       "      <td>705180</td>\n",
       "      <td>DAVID</td>\n",
       "      <td>COSSIO</td>\n",
       "      <td>1988-05-22 00:14:39.080</td>\n",
       "      <td>Masculino</td>\n",
       "      <td>0.0</td>\n",
       "      <td>NaN</td>\n",
       "      <td>N</td>\n",
       "      <td>1990-01-01 00:00:00.000</td>\n",
       "      <td>No Aprobado</td>\n",
       "    </tr>\n",
       "    <tr>\n",
       "      <th>4</th>\n",
       "      <td>45069945</td>\n",
       "      <td>SEBASTIAN</td>\n",
       "      <td>SANDOVAL</td>\n",
       "      <td>1900-08-19 03:09:45.153</td>\n",
       "      <td>Masculino</td>\n",
       "      <td>0.0</td>\n",
       "      <td>NaN</td>\n",
       "      <td>N</td>\n",
       "      <td>1990-01-01 00:00:00.000</td>\n",
       "      <td>No Aprobado</td>\n",
       "    </tr>\n",
       "  </tbody>\n",
       "</table>\n",
       "</div>"
      ],
      "text/plain": [
       "  NumeroIdentificacion     Nombre  Apellido            FecNacimiento  \\\n",
       "0               824670  GUILLERMO  RESTREPO  1984-04-02 04:18:06.197   \n",
       "1               582024      DAVID    GALVEZ  1900-01-01 00:00:00.000   \n",
       "2              518445B   PATRICIA    ARANGO  1984-01-06 07:12:05.200   \n",
       "3               705180      DAVID    COSSIO  1988-05-22 00:14:39.080   \n",
       "4             45069945  SEBASTIAN  SANDOVAL  1900-08-19 03:09:45.153   \n",
       "\n",
       "      Genero  Estudiante  PersonasACargo Foto     FechaCreacionCliente  \\\n",
       "0  Masculino         0.0             NaN    N  1990-01-01 00:00:00.000   \n",
       "1  Masculino         0.0             NaN    N  1990-01-01 00:00:00.000   \n",
       "2   Femenino         0.0             NaN    N  1990-01-01 00:00:00.000   \n",
       "3  Masculino         0.0             NaN    N  1990-01-01 00:00:00.000   \n",
       "4  Masculino         0.0             NaN    N  1990-01-01 00:00:00.000   \n",
       "\n",
       "        Estado  \n",
       "0  No Aprobado  \n",
       "1  No Aprobado  \n",
       "2  No Aprobado  \n",
       "3  No Aprobado  \n",
       "4  No Aprobado  "
      ]
     },
     "execution_count": 22,
     "metadata": {},
     "output_type": "execute_result"
    }
   ],
   "source": [
    "data_cleaned.head()"
   ]
  },
  {
   "cell_type": "code",
   "execution_count": 23,
   "metadata": {},
   "outputs": [
    {
     "data": {
      "text/html": [
       "<div>\n",
       "<style scoped>\n",
       "    .dataframe tbody tr th:only-of-type {\n",
       "        vertical-align: middle;\n",
       "    }\n",
       "\n",
       "    .dataframe tbody tr th {\n",
       "        vertical-align: top;\n",
       "    }\n",
       "\n",
       "    .dataframe thead th {\n",
       "        text-align: right;\n",
       "    }\n",
       "</style>\n",
       "<table border=\"1\" class=\"dataframe\">\n",
       "  <thead>\n",
       "    <tr style=\"text-align: right;\">\n",
       "      <th></th>\n",
       "      <th>NumeroIdentificacion</th>\n",
       "      <th>Nombre</th>\n",
       "      <th>Apellido</th>\n",
       "      <th>FechaDeNacimiento</th>\n",
       "      <th>Genero</th>\n",
       "      <th>Estudiante</th>\n",
       "      <th>PersonasACargo</th>\n",
       "      <th>Foto</th>\n",
       "      <th>FechaCreacionCliente</th>\n",
       "      <th>Estado</th>\n",
       "    </tr>\n",
       "  </thead>\n",
       "  <tbody>\n",
       "    <tr>\n",
       "      <th>0</th>\n",
       "      <td>824670</td>\n",
       "      <td>GUILLERMO</td>\n",
       "      <td>RESTREPO</td>\n",
       "      <td>1984-04-02 04:18:06.197</td>\n",
       "      <td>Masculino</td>\n",
       "      <td>0.0</td>\n",
       "      <td>NaN</td>\n",
       "      <td>N</td>\n",
       "      <td>1990-01-01 00:00:00.000</td>\n",
       "      <td>No Aprobado</td>\n",
       "    </tr>\n",
       "    <tr>\n",
       "      <th>1</th>\n",
       "      <td>582024</td>\n",
       "      <td>DAVID</td>\n",
       "      <td>GALVEZ</td>\n",
       "      <td>1900-01-01 00:00:00.000</td>\n",
       "      <td>Masculino</td>\n",
       "      <td>0.0</td>\n",
       "      <td>NaN</td>\n",
       "      <td>N</td>\n",
       "      <td>1990-01-01 00:00:00.000</td>\n",
       "      <td>No Aprobado</td>\n",
       "    </tr>\n",
       "    <tr>\n",
       "      <th>2</th>\n",
       "      <td>518445B</td>\n",
       "      <td>PATRICIA</td>\n",
       "      <td>ARANGO</td>\n",
       "      <td>1984-01-06 07:12:05.200</td>\n",
       "      <td>Femenino</td>\n",
       "      <td>0.0</td>\n",
       "      <td>NaN</td>\n",
       "      <td>N</td>\n",
       "      <td>1990-01-01 00:00:00.000</td>\n",
       "      <td>No Aprobado</td>\n",
       "    </tr>\n",
       "    <tr>\n",
       "      <th>3</th>\n",
       "      <td>705180</td>\n",
       "      <td>DAVID</td>\n",
       "      <td>COSSIO</td>\n",
       "      <td>1988-05-22 00:14:39.080</td>\n",
       "      <td>Masculino</td>\n",
       "      <td>0.0</td>\n",
       "      <td>NaN</td>\n",
       "      <td>N</td>\n",
       "      <td>1990-01-01 00:00:00.000</td>\n",
       "      <td>No Aprobado</td>\n",
       "    </tr>\n",
       "    <tr>\n",
       "      <th>4</th>\n",
       "      <td>45069945</td>\n",
       "      <td>SEBASTIAN</td>\n",
       "      <td>SANDOVAL</td>\n",
       "      <td>1900-08-19 03:09:45.153</td>\n",
       "      <td>Masculino</td>\n",
       "      <td>0.0</td>\n",
       "      <td>NaN</td>\n",
       "      <td>N</td>\n",
       "      <td>1990-01-01 00:00:00.000</td>\n",
       "      <td>No Aprobado</td>\n",
       "    </tr>\n",
       "  </tbody>\n",
       "</table>\n",
       "</div>"
      ],
      "text/plain": [
       "  NumeroIdentificacion     Nombre  Apellido        FechaDeNacimiento  \\\n",
       "0               824670  GUILLERMO  RESTREPO  1984-04-02 04:18:06.197   \n",
       "1               582024      DAVID    GALVEZ  1900-01-01 00:00:00.000   \n",
       "2              518445B   PATRICIA    ARANGO  1984-01-06 07:12:05.200   \n",
       "3               705180      DAVID    COSSIO  1988-05-22 00:14:39.080   \n",
       "4             45069945  SEBASTIAN  SANDOVAL  1900-08-19 03:09:45.153   \n",
       "\n",
       "      Genero  Estudiante  PersonasACargo Foto     FechaCreacionCliente  \\\n",
       "0  Masculino         0.0             NaN    N  1990-01-01 00:00:00.000   \n",
       "1  Masculino         0.0             NaN    N  1990-01-01 00:00:00.000   \n",
       "2   Femenino         0.0             NaN    N  1990-01-01 00:00:00.000   \n",
       "3  Masculino         0.0             NaN    N  1990-01-01 00:00:00.000   \n",
       "4  Masculino         0.0             NaN    N  1990-01-01 00:00:00.000   \n",
       "\n",
       "        Estado  \n",
       "0  No Aprobado  \n",
       "1  No Aprobado  \n",
       "2  No Aprobado  \n",
       "3  No Aprobado  \n",
       "4  No Aprobado  "
      ]
     },
     "execution_count": 23,
     "metadata": {},
     "output_type": "execute_result"
    }
   ],
   "source": [
    "data_cleaned = data_cleaned.rename(columns={'FecNacimiento': 'FechaDeNacimiento'})\n",
    "data_cleaned.head()"
   ]
  },
  {
   "cell_type": "code",
   "execution_count": 24,
   "metadata": {},
   "outputs": [
    {
     "name": "stdout",
     "output_type": "stream",
     "text": [
      "columna:  NumeroIdentificacion\n",
      "Número devalores únicos: 231956\n",
      "Valores únicos: ['824670' '582024' '518445B' '705180' '45069945' '470024' '125425' '16655'\n",
      " '649575B' '804468']\n",
      "--------------------------------------------------\n",
      "columna:  Nombre\n",
      "Número devalores únicos: 17094\n",
      "Valores únicos: ['GUILLERMO' 'DAVID' 'PATRICIA' 'SEBASTIAN' 'ALFONSO' 'humberto' 'LORENZO'\n",
      " 'maria' 'Sebastian' 'ANDREA']\n",
      "--------------------------------------------------\n",
      "columna:  Apellido\n",
      "Número devalores únicos: 9962\n",
      "Valores únicos: ['RESTREPO' 'GALVEZ' 'ARANGO' 'COSSIO' 'SANDOVAL' 'ARROYAVE' 'Garcia'\n",
      " 'GUTIERREZ' 'MUÑOZ ' 'reyes']\n",
      "--------------------------------------------------\n",
      "columna:  FechaDeNacimiento\n",
      "Número devalores únicos: 255281\n",
      "Valores únicos: ['1984-04-02 04:18:06.197' '1900-01-01 00:00:00.000'\n",
      " '1984-01-06 07:12:05.200' '1988-05-22 00:14:39.080'\n",
      " '1900-08-19 03:09:45.153' '1977-10-27 00:07:40.330'\n",
      " '1970-06-29 13:36:23.617' '1902-04-13 03:31:10.923'\n",
      " '1986-04-01 02:11:29.640' '1987-11-14 22:11:20.353']\n",
      "--------------------------------------------------\n",
      "columna:  Genero\n",
      "Número devalores únicos: 4\n",
      "Valores únicos: ['Masculino' 'Femenino' 'Female' 'Male']\n",
      "--------------------------------------------------\n",
      "columna:  Estudiante\n",
      "Número devalores únicos: 2\n",
      "Valores únicos: [0. 1.]\n",
      "--------------------------------------------------\n",
      "columna:  PersonasACargo\n",
      "Número devalores únicos: 18\n",
      "Valores únicos: [nan  1.  0.  2.  3.  5.  4.  6. 10. 14.]\n",
      "--------------------------------------------------\n",
      "columna:  Foto\n",
      "Número devalores únicos: 2\n",
      "Valores únicos: ['N' 'S']\n",
      "--------------------------------------------------\n",
      "columna:  FechaCreacionCliente\n",
      "Número devalores únicos: 1\n",
      "Valores únicos: ['1990-01-01 00:00:00.000']\n",
      "--------------------------------------------------\n",
      "columna:  Estado\n",
      "Número devalores únicos: 2\n",
      "Valores únicos: ['No Aprobado' 'Aprobado']\n",
      "--------------------------------------------------\n"
     ]
    }
   ],
   "source": [
    "unique_values = {col : data_cleaned[col].unique() for col in data_cleaned.columns}\n",
    "for col, values in unique_values.items():\n",
    "    print(f'columna:  {col}')\n",
    "    print(f'Número devalores únicos: {len(values)}')\n",
    "    print(f'Valores únicos: {values[:10]}')\n",
    "    print('-' *50)"
   ]
  },
  {
   "cell_type": "code",
   "execution_count": 25,
   "metadata": {},
   "outputs": [],
   "source": [
    "# Reemplazar valores\n",
    "data_cleaned['Genero'] = data_cleaned['Genero'].replace({'male': 'Masculino', \n",
    "                                    'female': 'Femenino', \n",
    "                                    'Male': 'Masculino', \n",
    "                                    'Female': 'Femenino'})\n"
   ]
  },
  {
   "cell_type": "code",
   "execution_count": 26,
   "metadata": {},
   "outputs": [],
   "source": [
    "data_cleaned['Estudiante'] = data_cleaned['Estudiante'].replace({0: 'No', \n",
    "                                    1: 'Sí'})"
   ]
  },
  {
   "cell_type": "code",
   "execution_count": 27,
   "metadata": {},
   "outputs": [],
   "source": [
    "data_cleaned['PersonasACargo'] = data_cleaned['PersonasACargo'].replace({'nan': 0})"
   ]
  },
  {
   "cell_type": "code",
   "execution_count": 28,
   "metadata": {},
   "outputs": [],
   "source": [
    "data_cleaned['Foto'] = data_cleaned['Foto'].replace({'N': 'No', \n",
    "                                    'S': 'Sí'})"
   ]
  },
  {
   "cell_type": "code",
   "execution_count": 29,
   "metadata": {},
   "outputs": [],
   "source": [
    "data_cleaned['PersonasACargo'] = data_cleaned['PersonasACargo'].fillna(0) #porque tengo datos con nan"
   ]
  },
  {
   "cell_type": "code",
   "execution_count": 30,
   "metadata": {},
   "outputs": [],
   "source": [
    "# Convertir a mayúsculas con apply()\n",
    "data_cleaned['Nombre'] = data_cleaned['Nombre'].apply(lambda x: x.upper())\n",
    "data_cleaned['Apellido'] = data_cleaned['Apellido'].apply(lambda x: x.upper())"
   ]
  },
  {
   "cell_type": "code",
   "execution_count": 31,
   "metadata": {},
   "outputs": [
    {
     "name": "stdout",
     "output_type": "stream",
     "text": [
      "<class 'pandas.core.frame.DataFrame'>\n",
      "Index: 257403 entries, 0 to 267930\n",
      "Data columns (total 10 columns):\n",
      " #   Column                Non-Null Count   Dtype  \n",
      "---  ------                --------------   -----  \n",
      " 0   NumeroIdentificacion  257403 non-null  object \n",
      " 1   Nombre                257403 non-null  object \n",
      " 2   Apellido              257403 non-null  object \n",
      " 3   FechaDeNacimiento     257403 non-null  object \n",
      " 4   Genero                257403 non-null  object \n",
      " 5   Estudiante            257403 non-null  object \n",
      " 6   PersonasACargo        257403 non-null  float64\n",
      " 7   Foto                  257403 non-null  object \n",
      " 8   FechaCreacionCliente  257403 non-null  object \n",
      " 9   Estado                257403 non-null  object \n",
      "dtypes: float64(1), object(9)\n",
      "memory usage: 21.6+ MB\n",
      "None\n"
     ]
    }
   ],
   "source": [
    "print(data_cleaned.info())"
   ]
  },
  {
   "cell_type": "code",
   "execution_count": 61,
   "metadata": {},
   "outputs": [
    {
     "name": "stdout",
     "output_type": "stream",
     "text": [
      "25447\n"
     ]
    }
   ],
   "source": [
    "num_duplicados = data_cleaned['NumeroIdentificacion'].duplicated().sum()\n",
    "print(num_duplicados)"
   ]
  },
  {
   "cell_type": "code",
   "execution_count": 67,
   "metadata": {},
   "outputs": [
    {
     "name": "stdout",
     "output_type": "stream",
     "text": [
      "25447\n",
      "<class 'pandas.core.frame.DataFrame'>\n",
      "Index: 231956 entries, 0 to 267930\n",
      "Data columns (total 10 columns):\n",
      " #   Column                Non-Null Count   Dtype  \n",
      "---  ------                --------------   -----  \n",
      " 0   NumeroIdentificacion  231956 non-null  object \n",
      " 1   Nombre                231956 non-null  object \n",
      " 2   Apellido              231956 non-null  object \n",
      " 3   FechaDeNacimiento     231956 non-null  object \n",
      " 4   Genero                231956 non-null  object \n",
      " 5   Estudiante            231956 non-null  object \n",
      " 6   PersonasACargo        231956 non-null  float64\n",
      " 7   Foto                  231956 non-null  object \n",
      " 8   FechaCreacionCliente  231956 non-null  object \n",
      " 9   Estado                231956 non-null  object \n",
      "dtypes: float64(1), object(9)\n",
      "memory usage: 19.5+ MB\n",
      "None\n"
     ]
    }
   ],
   "source": [
    "data_newcleaned = data_cleaned.drop_duplicates(subset = 'NumeroIdentificacion')\n",
    "print(num_duplicados)\n",
    "print(data_newcleaned.info())"
   ]
  },
  {
   "cell_type": "code",
   "execution_count": 68,
   "metadata": {},
   "outputs": [
    {
     "name": "stdout",
     "output_type": "stream",
     "text": [
      "0\n"
     ]
    }
   ],
   "source": [
    "num_duplicados = data_newcleaned['NumeroIdentificacion'].duplicated().sum()\n",
    "print(num_duplicados)"
   ]
  },
  {
   "cell_type": "code",
   "execution_count": 74,
   "metadata": {},
   "outputs": [
    {
     "name": "stderr",
     "output_type": "stream",
     "text": [
      "C:\\Users\\damak\\AppData\\Local\\Temp\\ipykernel_4504\\627533812.py:6: SettingWithCopyWarning: \n",
      "A value is trying to be set on a copy of a slice from a DataFrame.\n",
      "Try using .loc[row_indexer,col_indexer] = value instead\n",
      "\n",
      "See the caveats in the documentation: https://pandas.pydata.org/pandas-docs/stable/user_guide/indexing.html#returning-a-view-versus-a-copy\n",
      "  data_newcleaned['NumeroIdentificacion'] = data_newcleaned['NumeroIdentificacion'].apply(eliminar_letras_y_puntos)\n"
     ]
    }
   ],
   "source": [
    "import re\n",
    "\n",
    "def eliminar_letras_y_puntos(numero):\n",
    "    return re.sub(r'[a-zA-Z.]', '', numero)\n",
    "\n",
    "data_newcleaned['NumeroIdentificacion'] = data_newcleaned['NumeroIdentificacion'].apply(eliminar_letras_y_puntos)\n",
    "\n"
   ]
  }
 ],
 "metadata": {
  "kernelspec": {
   "display_name": ".venv",
   "language": "python",
   "name": "python3"
  },
  "language_info": {
   "codemirror_mode": {
    "name": "ipython",
    "version": 3
   },
   "file_extension": ".py",
   "mimetype": "text/x-python",
   "name": "python",
   "nbconvert_exporter": "python",
   "pygments_lexer": "ipython3",
   "version": "3.11.7"
  }
 },
 "nbformat": 4,
 "nbformat_minor": 2
}
